{
 "cells": [
  {
   "cell_type": "markdown",
   "id": "3577e067",
   "metadata": {},
   "source": [
    "# Gold Price Prediction using Random Forest"
   ]
  },
  {
   "cell_type": "code",
   "execution_count": 54,
   "id": "bcc7ecf0",
   "metadata": {},
   "outputs": [],
   "source": [
    "# importing the libraries\n",
    "\n",
    "import numpy as np\n",
    "import pandas as pd\n",
    "import matplotlib.pyplot as plt\n",
    "import seaborn as sns\n",
    "import pickle\n",
    "from sklearn.model_selection import train_test_split\n",
    "from sklearn import metrics\n",
    "from sklearn.ensemble import RandomForestRegressor"
   ]
  },
  {
   "cell_type": "markdown",
   "id": "d97784e8",
   "metadata": {},
   "source": [
    "## Collecting the Dataset and Processing\n"
   ]
  },
  {
   "cell_type": "code",
   "execution_count": 7,
   "id": "2763ebab",
   "metadata": {},
   "outputs": [
    {
     "data": {
      "text/html": [
       "<div>\n",
       "<style scoped>\n",
       "    .dataframe tbody tr th:only-of-type {\n",
       "        vertical-align: middle;\n",
       "    }\n",
       "\n",
       "    .dataframe tbody tr th {\n",
       "        vertical-align: top;\n",
       "    }\n",
       "\n",
       "    .dataframe thead th {\n",
       "        text-align: right;\n",
       "    }\n",
       "</style>\n",
       "<table border=\"1\" class=\"dataframe\">\n",
       "  <thead>\n",
       "    <tr style=\"text-align: right;\">\n",
       "      <th></th>\n",
       "      <th>Date</th>\n",
       "      <th>SPX</th>\n",
       "      <th>GLD</th>\n",
       "      <th>USO</th>\n",
       "      <th>SLV</th>\n",
       "      <th>EUR/USD</th>\n",
       "    </tr>\n",
       "  </thead>\n",
       "  <tbody>\n",
       "    <tr>\n",
       "      <th>0</th>\n",
       "      <td>1/2/2008</td>\n",
       "      <td>1447.160034</td>\n",
       "      <td>84.860001</td>\n",
       "      <td>78.470001</td>\n",
       "      <td>15.180</td>\n",
       "      <td>1.471692</td>\n",
       "    </tr>\n",
       "    <tr>\n",
       "      <th>1</th>\n",
       "      <td>1/3/2008</td>\n",
       "      <td>1447.160034</td>\n",
       "      <td>85.570000</td>\n",
       "      <td>78.370003</td>\n",
       "      <td>15.285</td>\n",
       "      <td>1.474491</td>\n",
       "    </tr>\n",
       "    <tr>\n",
       "      <th>2</th>\n",
       "      <td>1/4/2008</td>\n",
       "      <td>1411.630005</td>\n",
       "      <td>85.129997</td>\n",
       "      <td>77.309998</td>\n",
       "      <td>15.167</td>\n",
       "      <td>1.475492</td>\n",
       "    </tr>\n",
       "    <tr>\n",
       "      <th>3</th>\n",
       "      <td>1/7/2008</td>\n",
       "      <td>1416.180054</td>\n",
       "      <td>84.769997</td>\n",
       "      <td>75.500000</td>\n",
       "      <td>15.053</td>\n",
       "      <td>1.468299</td>\n",
       "    </tr>\n",
       "    <tr>\n",
       "      <th>4</th>\n",
       "      <td>1/8/2008</td>\n",
       "      <td>1390.189941</td>\n",
       "      <td>86.779999</td>\n",
       "      <td>76.059998</td>\n",
       "      <td>15.590</td>\n",
       "      <td>1.557099</td>\n",
       "    </tr>\n",
       "  </tbody>\n",
       "</table>\n",
       "</div>"
      ],
      "text/plain": [
       "       Date          SPX        GLD        USO     SLV   EUR/USD\n",
       "0  1/2/2008  1447.160034  84.860001  78.470001  15.180  1.471692\n",
       "1  1/3/2008  1447.160034  85.570000  78.370003  15.285  1.474491\n",
       "2  1/4/2008  1411.630005  85.129997  77.309998  15.167  1.475492\n",
       "3  1/7/2008  1416.180054  84.769997  75.500000  15.053  1.468299\n",
       "4  1/8/2008  1390.189941  86.779999  76.059998  15.590  1.557099"
      ]
     },
     "execution_count": 7,
     "metadata": {},
     "output_type": "execute_result"
    }
   ],
   "source": [
    "gold_dataset=pd.read_csv('gld_price_data.csv')\n",
    "gold_dataset.head()"
   ]
  },
  {
   "cell_type": "code",
   "execution_count": 8,
   "id": "301d67c1",
   "metadata": {},
   "outputs": [
    {
     "name": "stdout",
     "output_type": "stream",
     "text": [
      "<class 'pandas.core.frame.DataFrame'>\n",
      "RangeIndex: 2290 entries, 0 to 2289\n",
      "Data columns (total 6 columns):\n",
      " #   Column   Non-Null Count  Dtype  \n",
      "---  ------   --------------  -----  \n",
      " 0   Date     2290 non-null   object \n",
      " 1   SPX      2290 non-null   float64\n",
      " 2   GLD      2290 non-null   float64\n",
      " 3   USO      2290 non-null   float64\n",
      " 4   SLV      2290 non-null   float64\n",
      " 5   EUR/USD  2290 non-null   float64\n",
      "dtypes: float64(5), object(1)\n",
      "memory usage: 107.5+ KB\n"
     ]
    }
   ],
   "source": [
    "gold_dataset.info()"
   ]
  },
  {
   "cell_type": "code",
   "execution_count": 10,
   "id": "d8a96994",
   "metadata": {},
   "outputs": [
    {
     "data": {
      "text/plain": [
       "Date       0\n",
       "SPX        0\n",
       "GLD        0\n",
       "USO        0\n",
       "SLV        0\n",
       "EUR/USD    0\n",
       "dtype: int64"
      ]
     },
     "execution_count": 10,
     "metadata": {},
     "output_type": "execute_result"
    }
   ],
   "source": [
    "# checking null values\n",
    "\n",
    "gold_dataset.isnull().sum()"
   ]
  },
  {
   "cell_type": "code",
   "execution_count": 12,
   "id": "af824215",
   "metadata": {},
   "outputs": [
    {
     "data": {
      "text/html": [
       "<div>\n",
       "<style scoped>\n",
       "    .dataframe tbody tr th:only-of-type {\n",
       "        vertical-align: middle;\n",
       "    }\n",
       "\n",
       "    .dataframe tbody tr th {\n",
       "        vertical-align: top;\n",
       "    }\n",
       "\n",
       "    .dataframe thead th {\n",
       "        text-align: right;\n",
       "    }\n",
       "</style>\n",
       "<table border=\"1\" class=\"dataframe\">\n",
       "  <thead>\n",
       "    <tr style=\"text-align: right;\">\n",
       "      <th></th>\n",
       "      <th>SPX</th>\n",
       "      <th>GLD</th>\n",
       "      <th>USO</th>\n",
       "      <th>SLV</th>\n",
       "      <th>EUR/USD</th>\n",
       "    </tr>\n",
       "  </thead>\n",
       "  <tbody>\n",
       "    <tr>\n",
       "      <th>count</th>\n",
       "      <td>2290.000000</td>\n",
       "      <td>2290.000000</td>\n",
       "      <td>2290.000000</td>\n",
       "      <td>2290.000000</td>\n",
       "      <td>2290.000000</td>\n",
       "    </tr>\n",
       "    <tr>\n",
       "      <th>mean</th>\n",
       "      <td>1654.315776</td>\n",
       "      <td>122.732875</td>\n",
       "      <td>31.842221</td>\n",
       "      <td>20.084997</td>\n",
       "      <td>1.283653</td>\n",
       "    </tr>\n",
       "    <tr>\n",
       "      <th>std</th>\n",
       "      <td>519.111540</td>\n",
       "      <td>23.283346</td>\n",
       "      <td>19.523517</td>\n",
       "      <td>7.092566</td>\n",
       "      <td>0.131547</td>\n",
       "    </tr>\n",
       "    <tr>\n",
       "      <th>min</th>\n",
       "      <td>676.530029</td>\n",
       "      <td>70.000000</td>\n",
       "      <td>7.960000</td>\n",
       "      <td>8.850000</td>\n",
       "      <td>1.039047</td>\n",
       "    </tr>\n",
       "    <tr>\n",
       "      <th>25%</th>\n",
       "      <td>1239.874969</td>\n",
       "      <td>109.725000</td>\n",
       "      <td>14.380000</td>\n",
       "      <td>15.570000</td>\n",
       "      <td>1.171313</td>\n",
       "    </tr>\n",
       "    <tr>\n",
       "      <th>50%</th>\n",
       "      <td>1551.434998</td>\n",
       "      <td>120.580002</td>\n",
       "      <td>33.869999</td>\n",
       "      <td>17.268500</td>\n",
       "      <td>1.303297</td>\n",
       "    </tr>\n",
       "    <tr>\n",
       "      <th>75%</th>\n",
       "      <td>2073.010070</td>\n",
       "      <td>132.840004</td>\n",
       "      <td>37.827501</td>\n",
       "      <td>22.882500</td>\n",
       "      <td>1.369971</td>\n",
       "    </tr>\n",
       "    <tr>\n",
       "      <th>max</th>\n",
       "      <td>2872.870117</td>\n",
       "      <td>184.589996</td>\n",
       "      <td>117.480003</td>\n",
       "      <td>47.259998</td>\n",
       "      <td>1.598798</td>\n",
       "    </tr>\n",
       "  </tbody>\n",
       "</table>\n",
       "</div>"
      ],
      "text/plain": [
       "               SPX          GLD          USO          SLV      EUR/USD\n",
       "count  2290.000000  2290.000000  2290.000000  2290.000000  2290.000000\n",
       "mean   1654.315776   122.732875    31.842221    20.084997     1.283653\n",
       "std     519.111540    23.283346    19.523517     7.092566     0.131547\n",
       "min     676.530029    70.000000     7.960000     8.850000     1.039047\n",
       "25%    1239.874969   109.725000    14.380000    15.570000     1.171313\n",
       "50%    1551.434998   120.580002    33.869999    17.268500     1.303297\n",
       "75%    2073.010070   132.840004    37.827501    22.882500     1.369971\n",
       "max    2872.870117   184.589996   117.480003    47.259998     1.598798"
      ]
     },
     "execution_count": 12,
     "metadata": {},
     "output_type": "execute_result"
    }
   ],
   "source": [
    "# statistical measure of dataset\n",
    "\n",
    "gold_dataset.describe()"
   ]
  },
  {
   "cell_type": "markdown",
   "id": "7073b9f1",
   "metadata": {},
   "source": [
    " Correlation\n",
    " \n",
    " 1. Positive Correlation\n",
    " 2. Negative Correlation"
   ]
  },
  {
   "cell_type": "code",
   "execution_count": 20,
   "id": "1f800232",
   "metadata": {},
   "outputs": [],
   "source": [
    "gold_dataset=gold_dataset.drop('Date',axis=1)"
   ]
  },
  {
   "cell_type": "code",
   "execution_count": 21,
   "id": "830ca268",
   "metadata": {},
   "outputs": [],
   "source": [
    "correlation=gold_dataset.corr()"
   ]
  },
  {
   "cell_type": "code",
   "execution_count": 22,
   "id": "2a8971ec",
   "metadata": {},
   "outputs": [
    {
     "data": {
      "text/plain": [
       "<Axes: >"
      ]
     },
     "execution_count": 22,
     "metadata": {},
     "output_type": "execute_result"
    },
    {
     "data": {
      "image/png": "[encoded data removed]",
      "text/plain": [
       "<Figure size 800x800 with 2 Axes>"
      ]
     },
     "metadata": {},
     "output_type": "display_data"
    }
   ],
   "source": [
    "# constructing the heatmap\n",
    "\n",
    "plt.figure(figsize=(8,8))\n",
    "sns.heatmap(correlation,cbar=True,square=True,fmt='.1f',annot=True,annot_kws={'size':8},cmap='Blues')"
   ]
  },
  {
   "cell_type": "code",
   "execution_count": 23,
   "id": "963fa1f3",
   "metadata": {},
   "outputs": [
    {
     "data": {
      "text/plain": [
       "SPX        0.049345\n",
       "GLD        1.000000\n",
       "USO       -0.186360\n",
       "SLV        0.866632\n",
       "EUR/USD   -0.024375\n",
       "Name: GLD, dtype: float64"
      ]
     },
     "execution_count": 23,
     "metadata": {},
     "output_type": "execute_result"
    }
   ],
   "source": [
    "correlation['GLD']"
   ]
  },
  {
   "cell_type": "code",
   "execution_count": 24,
   "id": "58c319dd",
   "metadata": {},
   "outputs": [
    {
     "name": "stderr",
     "output_type": "stream",
     "text": [
      "C:\\Users\\ACER\\anaconda3\\Lib\\site-packages\\seaborn\\axisgrid.py:118: UserWarning: The figure layout has changed to tight\n",
      "  self._figure.tight_layout(*args, **kwargs)\n"
     ]
    },
    {
     "data": {
      "text/plain": [
       "<seaborn.axisgrid.FacetGrid at 0x1f0e144d210>"
      ]
     },
     "execution_count": 24,
     "metadata": {},
     "output_type": "execute_result"
    },
    {
     "data": {
      "image/png": "[encoded data removed]",
      "text/plain": [
       "<Figure size 500x500 with 1 Axes>"
      ]
     },
     "metadata": {},
     "output_type": "display_data"
    }
   ],
   "source": [
    "# checking the distribution of gold price\n",
    "\n",
    "sns.displot(gold_dataset['GLD'],color='Green')"
   ]
  },
  {
   "cell_type": "code",
   "execution_count": 25,
   "id": "6ed672ec",
   "metadata": {},
   "outputs": [],
   "source": [
    "X=gold_dataset.drop('GLD',axis=1)\n",
    "y=gold_dataset['GLD']"
   ]
  },
  {
   "cell_type": "code",
   "execution_count": 26,
   "id": "a56ca645",
   "metadata": {},
   "outputs": [
    {
     "data": {
      "text/html": [
       "<div>\n",
       "<style scoped>\n",
       "    .dataframe tbody tr th:only-of-type {\n",
       "        vertical-align: middle;\n",
       "    }\n",
       "\n",
       "    .dataframe tbody tr th {\n",
       "        vertical-align: top;\n",
       "    }\n",
       "\n",
       "    .dataframe thead th {\n",
       "        text-align: right;\n",
       "    }\n",
       "</style>\n",
       "<table border=\"1\" class=\"dataframe\">\n",
       "  <thead>\n",
       "    <tr style=\"text-align: right;\">\n",
       "      <th></th>\n",
       "      <th>SPX</th>\n",
       "      <th>USO</th>\n",
       "      <th>SLV</th>\n",
       "      <th>EUR/USD</th>\n",
       "    </tr>\n",
       "  </thead>\n",
       "  <tbody>\n",
       "    <tr>\n",
       "      <th>0</th>\n",
       "      <td>1447.160034</td>\n",
       "      <td>78.470001</td>\n",
       "      <td>15.180</td>\n",
       "      <td>1.471692</td>\n",
       "    </tr>\n",
       "    <tr>\n",
       "      <th>1</th>\n",
       "      <td>1447.160034</td>\n",
       "      <td>78.370003</td>\n",
       "      <td>15.285</td>\n",
       "      <td>1.474491</td>\n",
       "    </tr>\n",
       "    <tr>\n",
       "      <th>2</th>\n",
       "      <td>1411.630005</td>\n",
       "      <td>77.309998</td>\n",
       "      <td>15.167</td>\n",
       "      <td>1.475492</td>\n",
       "    </tr>\n",
       "    <tr>\n",
       "      <th>3</th>\n",
       "      <td>1416.180054</td>\n",
       "      <td>75.500000</td>\n",
       "      <td>15.053</td>\n",
       "      <td>1.468299</td>\n",
       "    </tr>\n",
       "    <tr>\n",
       "      <th>4</th>\n",
       "      <td>1390.189941</td>\n",
       "      <td>76.059998</td>\n",
       "      <td>15.590</td>\n",
       "      <td>1.557099</td>\n",
       "    </tr>\n",
       "  </tbody>\n",
       "</table>\n",
       "</div>"
      ],
      "text/plain": [
       "           SPX        USO     SLV   EUR/USD\n",
       "0  1447.160034  78.470001  15.180  1.471692\n",
       "1  1447.160034  78.370003  15.285  1.474491\n",
       "2  1411.630005  77.309998  15.167  1.475492\n",
       "3  1416.180054  75.500000  15.053  1.468299\n",
       "4  1390.189941  76.059998  15.590  1.557099"
      ]
     },
     "execution_count": 26,
     "metadata": {},
     "output_type": "execute_result"
    }
   ],
   "source": [
    "X.head()"
   ]
  },
  {
   "cell_type": "code",
   "execution_count": 27,
   "id": "e4ce4b86",
   "metadata": {},
   "outputs": [
    {
     "data": {
      "text/plain": [
       "0    84.860001\n",
       "1    85.570000\n",
       "2    85.129997\n",
       "3    84.769997\n",
       "4    86.779999\n",
       "Name: GLD, dtype: float64"
      ]
     },
     "execution_count": 27,
     "metadata": {},
     "output_type": "execute_result"
    }
   ],
   "source": [
    "y.head()"
   ]
  },
  {
   "cell_type": "markdown",
   "id": "02299d7f",
   "metadata": {},
   "source": [
    "### Train Test Split"
   ]
  },
  {
   "cell_type": "code",
   "execution_count": 32,
   "id": "79cd312c",
   "metadata": {},
   "outputs": [],
   "source": [
    "X_train,X_test,y_train,y_test=train_test_split(X,y,test_size=0.2,random_state=2)"
   ]
  },
  {
   "cell_type": "code",
   "execution_count": 35,
   "id": "0b9e3d53",
   "metadata": {},
   "outputs": [
    {
     "data": {
      "text/plain": [
       "(1832, 4)"
      ]
     },
     "execution_count": 35,
     "metadata": {},
     "output_type": "execute_result"
    }
   ],
   "source": [
    "X_train.shape"
   ]
  },
  {
   "cell_type": "code",
   "execution_count": 36,
   "id": "44669c52",
   "metadata": {},
   "outputs": [
    {
     "data": {
      "text/plain": [
       "(458, 4)"
      ]
     },
     "execution_count": 36,
     "metadata": {},
     "output_type": "execute_result"
    }
   ],
   "source": [
    "X_test.shape"
   ]
  },
  {
   "cell_type": "code",
   "execution_count": 38,
   "id": "d5485062",
   "metadata": {},
   "outputs": [
    {
     "data": {
      "text/plain": [
       "(1832,)"
      ]
     },
     "execution_count": 38,
     "metadata": {},
     "output_type": "execute_result"
    }
   ],
   "source": [
    "y_train.shape"
   ]
  },
  {
   "cell_type": "code",
   "execution_count": 39,
   "id": "6533bd1f",
   "metadata": {},
   "outputs": [
    {
     "data": {
      "text/plain": [
       "(458,)"
      ]
     },
     "execution_count": 39,
     "metadata": {},
     "output_type": "execute_result"
    }
   ],
   "source": [
    "y_test.shape"
   ]
  },
  {
   "cell_type": "markdown",
   "id": "b90a7153",
   "metadata": {},
   "source": [
    "## Training the Model"
   ]
  },
  {
   "cell_type": "code",
   "execution_count": 42,
   "id": "33abc1d5",
   "metadata": {},
   "outputs": [
    {
     "data": {
      "text/html": [
       "<style>#sk-container-id-2 {color: black;}#sk-container-id-2 pre{padding: 0;}#sk-container-id-2 div.sk-toggleable {background-color: white;}#sk-container-id-2 label.sk-toggleable__label {cursor: pointer;display: block;width: 100%;margin-bottom: 0;padding: 0.3em;box-sizing: border-box;text-align: center;}#sk-container-id-2 label.sk-toggleable__label-arrow:before {content: \"▸\";float: left;margin-right: 0.25em;color: #696969;}#sk-container-id-2 label.sk-toggleable__label-arrow:hover:before {color: black;}#sk-container-id-2 div.sk-estimator:hover label.sk-toggleable__label-arrow:before {color: black;}#sk-container-id-2 div.sk-toggleable__content {max-height: 0;max-width: 0;overflow: hidden;text-align: left;background-color: #f0f8ff;}#sk-container-id-2 div.sk-toggleable__content pre {margin: 0.2em;color: black;border-radius: 0.25em;background-color: #f0f8ff;}#sk-container-id-2 input.sk-toggleable__control:checked~div.sk-toggleable__content {max-height: 200px;max-width: 100%;overflow: auto;}#sk-container-id-2 input.sk-toggleable__control:checked~label.sk-toggleable__label-arrow:before {content: \"▾\";}#sk-container-id-2 div.sk-estimator input.sk-toggleable__control:checked~label.sk-toggleable__label {background-color: #d4ebff;}#sk-container-id-2 div.sk-label input.sk-toggleable__control:checked~label.sk-toggleable__label {background-color: #d4ebff;}#sk-container-id-2 input.sk-hidden--visually {border: 0;clip: rect(1px 1px 1px 1px);clip: rect(1px, 1px, 1px, 1px);height: 1px;margin: -1px;overflow: hidden;padding: 0;position: absolute;width: 1px;}#sk-container-id-2 div.sk-estimator {font-family: monospace;background-color: #f0f8ff;border: 1px dotted black;border-radius: 0.25em;box-sizing: border-box;margin-bottom: 0.5em;}#sk-container-id-2 div.sk-estimator:hover {background-color: #d4ebff;}#sk-container-id-2 div.sk-parallel-item::after {content: \"\";width: 100%;border-bottom: 1px solid gray;flex-grow: 1;}#sk-container-id-2 div.sk-label:hover label.sk-toggleable__label {background-color: #d4ebff;}#sk-container-id-2 div.sk-serial::before {content: \"\";position: absolute;border-left: 1px solid gray;box-sizing: border-box;top: 0;bottom: 0;left: 50%;z-index: 0;}#sk-container-id-2 div.sk-serial {display: flex;flex-direction: column;align-items: center;background-color: white;padding-right: 0.2em;padding-left: 0.2em;position: relative;}#sk-container-id-2 div.sk-item {position: relative;z-index: 1;}#sk-container-id-2 div.sk-parallel {display: flex;align-items: stretch;justify-content: center;background-color: white;position: relative;}#sk-container-id-2 div.sk-item::before, #sk-container-id-2 div.sk-parallel-item::before {content: \"\";position: absolute;border-left: 1px solid gray;box-sizing: border-box;top: 0;bottom: 0;left: 50%;z-index: -1;}#sk-container-id-2 div.sk-parallel-item {display: flex;flex-direction: column;z-index: 1;position: relative;background-color: white;}#sk-container-id-2 div.sk-parallel-item:first-child::after {align-self: flex-end;width: 50%;}#sk-container-id-2 div.sk-parallel-item:last-child::after {align-self: flex-start;width: 50%;}#sk-container-id-2 div.sk-parallel-item:only-child::after {width: 0;}#sk-container-id-2 div.sk-dashed-wrapped {border: 1px dashed gray;margin: 0 0.4em 0.5em 0.4em;box-sizing: border-box;padding-bottom: 0.4em;background-color: white;}#sk-container-id-2 div.sk-label label {font-family: monospace;font-weight: bold;display: inline-block;line-height: 1.2em;}#sk-container-id-2 div.sk-label-container {text-align: center;}#sk-container-id-2 div.sk-container {/* jupyter's `normalize.less` sets `[hidden] { display: none; }` but bootstrap.min.css set `[hidden] { display: none !important; }` so we also need the `!important` here to be able to override the default hidden behavior on the sphinx rendered scikit-learn.org. See: https://github.com/scikit-learn/scikit-learn/issues/21755 */display: inline-block !important;position: relative;}#sk-container-id-2 div.sk-text-repr-fallback {display: none;}</style><div id=\"sk-container-id-2\" class=\"sk-top-container\"><div class=\"sk-text-repr-fallback\"><pre>RandomForestRegressor()</pre><b>In a Jupyter environment, please rerun this cell to show the HTML representation or trust the notebook. <br />On GitHub, the HTML representation is unable to render, please try loading this page with nbviewer.org.</b></div><div class=\"sk-container\" hidden><div class=\"sk-item\"><div class=\"sk-estimator sk-toggleable\"><input class=\"sk-toggleable__control sk-hidden--visually\" id=\"sk-estimator-id-2\" type=\"checkbox\" checked><label for=\"sk-estimator-id-2\" class=\"sk-toggleable__label sk-toggleable__label-arrow\">RandomForestRegressor</label><div class=\"sk-toggleable__content\"><pre>RandomForestRegressor()</pre></div></div></div></div></div>"
      ],
      "text/plain": [
       "RandomForestRegressor()"
      ]
     },
     "execution_count": 42,
     "metadata": {},
     "output_type": "execute_result"
    }
   ],
   "source": [
    "model=RandomForestRegressor(n_estimators=100)\n",
    "model.fit(X_train,y_train)"
   ]
  },
  {
   "cell_type": "markdown",
   "id": "6c6c78b7",
   "metadata": {},
   "source": [
    "### Model Evaluation"
   ]
  },
  {
   "cell_type": "code",
   "execution_count": 43,
   "id": "f29155f5",
   "metadata": {},
   "outputs": [
    {
     "data": {
      "text/plain": [
       "array([109.90979805, 114.80330078,  90.69910002, ..., 130.53969598,\n",
       "       159.82039582, 114.98909948])"
      ]
     },
     "execution_count": 43,
     "metadata": {},
     "output_type": "execute_result"
    }
   ],
   "source": [
    "# On training data\n",
    "\n",
    "train_model_pred=model.predict(X_train)\n",
    "train_model_pred"
   ]
  },
  {
   "cell_type": "code",
   "execution_count": 44,
   "id": "c89529e3",
   "metadata": {},
   "outputs": [
    {
     "name": "stdout",
     "output_type": "stream",
     "text": [
      "R Squared Error 0.9984413563949011\n"
     ]
    }
   ],
   "source": [
    "# R squared error\n",
    "\n",
    "train_error_score=metrics.r2_score(y_train,train_model_pred)\n",
    "print(\"R Squared Error\",train_error_score)"
   ]
  },
  {
   "cell_type": "code",
   "execution_count": 45,
   "id": "a2e85ab9",
   "metadata": {},
   "outputs": [
    {
     "name": "stdout",
     "output_type": "stream",
     "text": [
      "R Squared Error 0.9894852760360306\n"
     ]
    }
   ],
   "source": [
    "# on Test Data\n",
    "\n",
    "test_model_pred=model.predict(X_test)\n",
    "test_error_score=metrics.r2_score(y_test,test_model_pred)\n",
    "print(\"R Squared Error\",test_error_score)"
   ]
  },
  {
   "cell_type": "markdown",
   "id": "e53935f9",
   "metadata": {},
   "source": [
    "### Visualization"
   ]
  },
  {
   "cell_type": "markdown",
   "id": "5284dfa9",
   "metadata": {},
   "source": [
    "#### actual Value Vs Predicted Values"
   ]
  },
  {
   "cell_type": "code",
   "execution_count": 46,
   "id": "41703222",
   "metadata": {},
   "outputs": [],
   "source": [
    "y_test=list(y_test)"
   ]
  },
  {
   "cell_type": "code",
   "execution_count": 47,
   "id": "4dfd8433",
   "metadata": {},
   "outputs": [],
   "source": [
    "y_train=list(y_train)"
   ]
  },
  {
   "cell_type": "code",
   "execution_count": 52,
   "id": "968030e9",
   "metadata": {},
   "outputs": [
    {
     "name": "stderr",
     "output_type": "stream",
     "text": [
      "No artists with labels found to put in legend.  Note that artists whose label start with an underscore are ignored when legend() is called with no argument.\n"
     ]
    },
    {
     "data": {
      "image/png": "[encoded data removed]",
      "text/plain": [
       "<Figure size 640x480 with 1 Axes>"
      ]
     },
     "metadata": {},
     "output_type": "display_data"
    }
   ],
   "source": [
    "plt.plot(y_train,color='blue')\n",
    "plt.plot(train_model_pred,color='green')\n",
    "plt.title('Actual Price Vs Predicted Price')\n",
    "plt.xlabel('No. of Values')\n",
    "plt.ylabel(\"Gold Price\")\n",
    "plt.legend()\n",
    "plt.show()"
   ]
  },
  {
   "cell_type": "markdown",
   "id": "2bc2818c",
   "metadata": {},
   "source": [
    "### Predictive System\n"
   ]
  },
  {
   "cell_type": "code",
   "execution_count": 62,
   "id": "6fa04e23",
   "metadata": {},
   "outputs": [
    {
     "name": "stderr",
     "output_type": "stream",
     "text": [
      "C:\\Users\\ACER\\anaconda3\\Lib\\site-packages\\sklearn\\base.py:464: UserWarning: X does not have valid feature names, but RandomForestRegressor was fitted with feature names\n",
      "  warnings.warn(\n"
     ]
    },
    {
     "data": {
      "text/plain": [
       "array([87.72839837])"
      ]
     },
     "execution_count": 62,
     "metadata": {},
     "output_type": "execute_result"
    }
   ],
   "source": [
    "input_data=(1325.189941,71.540001,16.030001,1.461796)\n",
    "input_data_asarray=np.asarray(input_data)\n",
    "input_data_reshaped=input_data_asarray.reshape(1,-1)\n",
    "model.predict(input_data_reshaped)"
   ]
  },
  {
   "cell_type": "markdown",
   "id": "e001fe10",
   "metadata": {},
   "source": [
    "### pickle File"
   ]
  },
  {
   "cell_type": "code",
   "execution_count": 56,
   "id": "36dcb82d",
   "metadata": {},
   "outputs": [],
   "source": [
    "pickle.dump(model,open('goldprice.pkl','wb'))"
   ]
  },
  {
   "cell_type": "code",
   "execution_count": 58,
   "id": "b79d127b",
   "metadata": {},
   "outputs": [],
   "source": [
    "pickled_model=pickle.load(open('goldprice.pkl','rb'))"
   ]
  },
  {
   "cell_type": "code",
   "execution_count": 61,
   "id": "03d242b2",
   "metadata": {},
   "outputs": [
    {
     "name": "stderr",
     "output_type": "stream",
     "text": [
      "C:\\Users\\ACER\\anaconda3\\Lib\\site-packages\\sklearn\\base.py:464: UserWarning: X does not have valid feature names, but RandomForestRegressor was fitted with feature names\n",
      "  warnings.warn(\n"
     ]
    },
    {
     "data": {
      "text/plain": [
       "array([86.27490109])"
      ]
     },
     "execution_count": 61,
     "metadata": {},
     "output_type": "execute_result"
    }
   ],
   "source": [
    "pickled_model.predict(input_data_reshaped)"
   ]
  },
  {
   "cell_type": "code",
   "execution_count": null,
   "id": "3e7d0e89",
   "metadata": {},
   "outputs": [],
   "source": []
  }
 ],
 "metadata": {
  "kernelspec": {
   "display_name": "Python 3 (ipykernel)",
   "language": "python",
   "name": "python3"
  },
  "language_info": {
   "codemirror_mode": {
    "name": "ipython",
    "version": 3
   },
   "file_extension": ".py",
   "mimetype": "text/x-python",
   "name": "python",
   "nbconvert_exporter": "python",
   "pygments_lexer": "ipython3",
   "version": "3.11.5"
  }
 },
 "nbformat": 4,
 "nbformat_minor": 5
}
